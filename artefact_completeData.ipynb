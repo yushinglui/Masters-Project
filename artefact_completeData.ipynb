{
 "cells": [
  {
   "cell_type": "markdown",
   "id": "6c0830d8-1fdf-4233-aa1b-781132f4b2eb",
   "metadata": {},
   "source": [
    "# Detecting Payment Fraud in Finance Industry using Machine Learning based Techniques\n",
    "\n",
    "### Yu Shing Lui\n",
    "### A0201746"
   ]
  },
  {
   "cell_type": "markdown",
   "id": "bd26850a-0aed-42a5-8b1e-dded34fc5730",
   "metadata": {},
   "source": [
    "### Descriptive Analysis"
   ]
  },
  {
   "cell_type": "code",
   "execution_count": 2,
   "id": "cbf2acfe-16a8-4796-9afb-d304a179845b",
   "metadata": {},
   "outputs": [],
   "source": [
    "#Mathematical operations\n",
    "import numpy as np\n",
    "\n",
    "#Data manipulation\n",
    "import pandas as pd\n",
    "\n",
    "#Data visulaization \n",
    "import matplotlib.pyplot as plt\n",
    "import seaborn as sns\n",
    "\n",
    "#Scaling, for standardizatiom\n",
    "from sklearn. preprocessing import StandardScaler, MinMaxScaler\n",
    "\n",
    "#Splitting data libraries and finding the best parameters\n",
    "from sklearn.model_selection import train_test_split, KFold, cross_val_score, RandomizedSearchCV\n",
    "\n",
    "#Finding accuracy score, confusion matrix\n",
    "from sklearn.metrics import accuracy_score, confusion_matrix, plot_confusion_matrix\n",
    "import sklearn.metrics as metrics\n",
    "\n",
    "#Random Forest Classifier\n",
    "from sklearn.ensemble import RandomForestClassifier\n",
    "\n",
    "#Logistic Regression for calssification\n",
    "from sklearn.linear_model import LogisticRegression\n",
    "\n",
    "#K-nearest Neighbors Classifier\n",
    "from sklearn.neighbors import KNeighborsClassifier\n",
    "\n",
    "#Support Vector Machine\n",
    "from sklearn.svm import SVC\n",
    "from sklearn import svm\n",
    "\n",
    "#Gaussian Naive Bayes\n",
    "from sklearn.naive_bayes import GaussianNB\n",
    "\n",
    "#Evaluate a model\n",
    "from sklearn.metrics import classification_report\n",
    "\n",
    "#Oversample the minority class\n",
    "from imblearn.over_sampling import SMOTE\n",
    "from collections import Counter\n",
    "\n",
    "#Record execution time in python\n",
    "import time\n",
    "\n",
    "#Shuffle data frame rows\n",
    "from sklearn.utils import shuffle"
   ]
  },
  {
   "cell_type": "markdown",
   "id": "c477b116-cd5d-46c5-8812-123b28d50d6d",
   "metadata": {},
   "source": [
    "##### Loading the dataset"
   ]
  },
  {
   "cell_type": "code",
   "execution_count": 3,
   "id": "53ce0ccf-d6d4-4849-a997-138af100fb3a",
   "metadata": {},
   "outputs": [],
   "source": [
    "dataset = pd.read_csv('banksim.csv')\n",
    "\n",
    "df = pd.DataFrame(dataset)"
   ]
  },
  {
   "cell_type": "markdown",
   "id": "8fcb4807-d738-494e-bce3-aa3e806a0888",
   "metadata": {},
   "source": [
    "##### Showing how many rows and columns in the dataset\n"
   ]
  },
  {
   "cell_type": "code",
   "execution_count": 4,
   "id": "a826c6b3-ec00-41c2-99cd-b029dee8eb45",
   "metadata": {},
   "outputs": [
    {
     "data": {
      "text/plain": [
       "(594643, 10)"
      ]
     },
     "execution_count": 4,
     "metadata": {},
     "output_type": "execute_result"
    }
   ],
   "source": [
    "df.shape"
   ]
  },
  {
   "cell_type": "markdown",
   "id": "7f5bbd25-eacd-48c8-9961-1200e2e354a5",
   "metadata": {},
   "source": [
    "In this dataset, it has 594,643 rows and 10 columns. It includes the features of step, customer, age, gender, zipcodeOri, merchant, zipMerchant, category, amount, and fraud. The details of each feature will show as below, and it will understand how they process for classification."
   ]
  },
  {
   "cell_type": "markdown",
   "id": "82913e87-e67f-4324-a9eb-237026c32450",
   "metadata": {},
   "source": [
    "##### Showing the first five rows of data\n"
   ]
  },
  {
   "cell_type": "code",
   "execution_count": 5,
   "id": "017c56ee-5512-448d-9c94-e1e9bc6b32d9",
   "metadata": {},
   "outputs": [
    {
     "data": {
      "text/html": [
       "<div>\n",
       "<style scoped>\n",
       "    .dataframe tbody tr th:only-of-type {\n",
       "        vertical-align: middle;\n",
       "    }\n",
       "\n",
       "    .dataframe tbody tr th {\n",
       "        vertical-align: top;\n",
       "    }\n",
       "\n",
       "    .dataframe thead th {\n",
       "        text-align: right;\n",
       "    }\n",
       "</style>\n",
       "<table border=\"1\" class=\"dataframe\">\n",
       "  <thead>\n",
       "    <tr style=\"text-align: right;\">\n",
       "      <th></th>\n",
       "      <th>step</th>\n",
       "      <th>customer</th>\n",
       "      <th>age</th>\n",
       "      <th>gender</th>\n",
       "      <th>zipcodeOri</th>\n",
       "      <th>merchant</th>\n",
       "      <th>zipMerchant</th>\n",
       "      <th>category</th>\n",
       "      <th>amount</th>\n",
       "      <th>fraud</th>\n",
       "    </tr>\n",
       "  </thead>\n",
       "  <tbody>\n",
       "    <tr>\n",
       "      <th>0</th>\n",
       "      <td>0</td>\n",
       "      <td>'C1093826151'</td>\n",
       "      <td>'4'</td>\n",
       "      <td>'M'</td>\n",
       "      <td>'28007'</td>\n",
       "      <td>'M348934600'</td>\n",
       "      <td>'28007'</td>\n",
       "      <td>'es_transportation'</td>\n",
       "      <td>4.55</td>\n",
       "      <td>0</td>\n",
       "    </tr>\n",
       "    <tr>\n",
       "      <th>1</th>\n",
       "      <td>0</td>\n",
       "      <td>'C352968107'</td>\n",
       "      <td>'2'</td>\n",
       "      <td>'M'</td>\n",
       "      <td>'28007'</td>\n",
       "      <td>'M348934600'</td>\n",
       "      <td>'28007'</td>\n",
       "      <td>'es_transportation'</td>\n",
       "      <td>39.68</td>\n",
       "      <td>0</td>\n",
       "    </tr>\n",
       "    <tr>\n",
       "      <th>2</th>\n",
       "      <td>0</td>\n",
       "      <td>'C2054744914'</td>\n",
       "      <td>'4'</td>\n",
       "      <td>'F'</td>\n",
       "      <td>'28007'</td>\n",
       "      <td>'M1823072687'</td>\n",
       "      <td>'28007'</td>\n",
       "      <td>'es_transportation'</td>\n",
       "      <td>26.89</td>\n",
       "      <td>0</td>\n",
       "    </tr>\n",
       "    <tr>\n",
       "      <th>3</th>\n",
       "      <td>0</td>\n",
       "      <td>'C1760612790'</td>\n",
       "      <td>'3'</td>\n",
       "      <td>'M'</td>\n",
       "      <td>'28007'</td>\n",
       "      <td>'M348934600'</td>\n",
       "      <td>'28007'</td>\n",
       "      <td>'es_transportation'</td>\n",
       "      <td>17.25</td>\n",
       "      <td>0</td>\n",
       "    </tr>\n",
       "    <tr>\n",
       "      <th>4</th>\n",
       "      <td>0</td>\n",
       "      <td>'C757503768'</td>\n",
       "      <td>'5'</td>\n",
       "      <td>'M'</td>\n",
       "      <td>'28007'</td>\n",
       "      <td>'M348934600'</td>\n",
       "      <td>'28007'</td>\n",
       "      <td>'es_transportation'</td>\n",
       "      <td>35.72</td>\n",
       "      <td>0</td>\n",
       "    </tr>\n",
       "  </tbody>\n",
       "</table>\n",
       "</div>"
      ],
      "text/plain": [
       "   step       customer  age gender zipcodeOri       merchant zipMerchant  \\\n",
       "0     0  'C1093826151'  '4'    'M'    '28007'   'M348934600'     '28007'   \n",
       "1     0   'C352968107'  '2'    'M'    '28007'   'M348934600'     '28007'   \n",
       "2     0  'C2054744914'  '4'    'F'    '28007'  'M1823072687'     '28007'   \n",
       "3     0  'C1760612790'  '3'    'M'    '28007'   'M348934600'     '28007'   \n",
       "4     0   'C757503768'  '5'    'M'    '28007'   'M348934600'     '28007'   \n",
       "\n",
       "              category  amount  fraud  \n",
       "0  'es_transportation'    4.55      0  \n",
       "1  'es_transportation'   39.68      0  \n",
       "2  'es_transportation'   26.89      0  \n",
       "3  'es_transportation'   17.25      0  \n",
       "4  'es_transportation'   35.72      0  "
      ]
     },
     "execution_count": 5,
     "metadata": {},
     "output_type": "execute_result"
    }
   ],
   "source": [
    "df.head()"
   ]
  },
  {
   "cell_type": "markdown",
   "id": "432d3701-2e1e-4de2-988c-1f5303f0ea9c",
   "metadata": {},
   "source": [
    "1.\tStep\n",
    "It represents the number of days for the transaction in this dataset. The range of this dataset contains around six months in total. \n",
    "\n",
    "2.\tCustomer\n",
    "It can identify each bank customer with unique ID for their transaction. Although it is a unique identifier, it does not have any sensitive information for the customers. All customers unique code will convert to integer for analyzing in machine learning models.\n",
    " \n",
    "3.\tAge\n",
    "Each code indicates specific age range of each customer. It has eight categories to represent the customer age range and needs to change the value of string to integer format for further usage\n",
    "\n",
    "4.\tGender\n",
    "Each code shows the gender type of each customer. There are four categories, which are enterprise, female, male and unknown column. \n",
    "\n",
    "5.\tZip Code Origin\n",
    "This column shows the zip code of each customer. However, it can find that all the zip codes are the same and it is no reason to use this feature. It will not have any impact for the result because of no difference of all of rows.\n",
    "\n",
    "6.\tMerchant\n",
    "It can identify each receiver with unique ID for their transaction. Although it is a unique identifier, it does not have any sensitive information for the merchant. All the merchant unique code will convert to integer for analyzing in machine learning models.\n",
    "\n",
    "7.\tZip Merchant\n",
    "This column shows the zip merchant of each merchant. However, it is the same result of the feature of Zip Code Origin which all the zip codes are the same and it is no reason to use this feature. It will not have any impact for the result because of no difference of all of rows.\n",
    "\n",
    "8.\tCategory\n",
    "This feature represents all categories for each transaction belongs to. It has the same situation as other features. The column of category needs to change the value of string to integer format for further usage. Otherwise, it cannot support for analyzing in machine learning models.\n",
    "\n",
    "9.\tAmount\n",
    "Due to the transactions of this dataset are from Spain, Europe. We believe that this feature of the amount should be in Euro and the values are numeric format with decimal values.\n",
    "\n",
    "10.\tFraud\n",
    "It uses boolean format for this column of each transaction. The value of 1 means the transaction is fraud. Otherwise, the value of 0 means the transaction is non-fraud."
   ]
  },
  {
   "cell_type": "markdown",
   "id": "2fe1ec3c-1008-4a76-b4ef-30f9b2bbeb8d",
   "metadata": {},
   "source": [
    "##### Looking for the type of each attributes"
   ]
  },
  {
   "cell_type": "code",
   "execution_count": 6,
   "id": "1c5d2a5f-77d5-42fa-985e-44dfc2d52e2d",
   "metadata": {},
   "outputs": [
    {
     "name": "stdout",
     "output_type": "stream",
     "text": [
      "<class 'pandas.core.frame.DataFrame'>\n",
      "RangeIndex: 594643 entries, 0 to 594642\n",
      "Data columns (total 10 columns):\n",
      " #   Column       Non-Null Count   Dtype  \n",
      "---  ------       --------------   -----  \n",
      " 0   step         594643 non-null  int64  \n",
      " 1   customer     594643 non-null  object \n",
      " 2   age          594643 non-null  object \n",
      " 3   gender       594643 non-null  object \n",
      " 4   zipcodeOri   594643 non-null  object \n",
      " 5   merchant     594643 non-null  object \n",
      " 6   zipMerchant  594643 non-null  object \n",
      " 7   category     594643 non-null  object \n",
      " 8   amount       594643 non-null  float64\n",
      " 9   fraud        594643 non-null  int64  \n",
      "dtypes: float64(1), int64(2), object(7)\n",
      "memory usage: 45.4+ MB\n"
     ]
    }
   ],
   "source": [
    "df.info()"
   ]
  },
  {
   "cell_type": "markdown",
   "id": "84670380-c150-45ca-bf66-d7b53cb9246a",
   "metadata": {},
   "source": [
    "##### Checking any missing data in the dataset"
   ]
  },
  {
   "cell_type": "code",
   "execution_count": 7,
   "id": "1720f4e4-ec6a-49b7-af1d-6a7b20a51e84",
   "metadata": {},
   "outputs": [
    {
     "data": {
      "text/plain": [
       "step           0\n",
       "customer       0\n",
       "age            0\n",
       "gender         0\n",
       "zipcodeOri     0\n",
       "merchant       0\n",
       "zipMerchant    0\n",
       "category       0\n",
       "amount         0\n",
       "fraud          0\n",
       "dtype: int64"
      ]
     },
     "execution_count": 7,
     "metadata": {},
     "output_type": "execute_result"
    }
   ],
   "source": [
    "df.isna().sum()"
   ]
  },
  {
   "cell_type": "markdown",
   "id": "efefa288-335f-4a95-b47f-59bf4114b4a1",
   "metadata": {},
   "source": [
    "##### Shuffle data frame rows"
   ]
  },
  {
   "cell_type": "code",
   "execution_count": 8,
   "id": "c79a72bd-90a9-4645-b002-8a5001a8db31",
   "metadata": {
    "tags": []
   },
   "outputs": [],
   "source": [
    "df = shuffle(df)"
   ]
  },
  {
   "cell_type": "markdown",
   "id": "e339099c-31b7-4c4b-9ecb-66c966244a1c",
   "metadata": {},
   "source": [
    "##### Counting the number of fraud and non-fraud transaction"
   ]
  },
  {
   "cell_type": "code",
   "execution_count": 9,
   "id": "0390df5d-2024-48c3-bcb7-8bbe88f3c77f",
   "metadata": {
    "tags": []
   },
   "outputs": [
    {
     "data": {
      "text/plain": [
       "0    587443\n",
       "1      7200\n",
       "Name: fraud, dtype: int64"
      ]
     },
     "execution_count": 9,
     "metadata": {},
     "output_type": "execute_result"
    }
   ],
   "source": [
    "df['fraud'].value_counts()"
   ]
  },
  {
   "cell_type": "markdown",
   "id": "b3cf8170-5c24-4cc4-a053-71ec31454eab",
   "metadata": {},
   "source": [
    "We see that non-fraudulent instances represent 98.8% of the total, and the imbalance of the dataset can be corroborated."
   ]
  },
  {
   "cell_type": "code",
   "execution_count": 10,
   "id": "5dc205fe-a2a7-4bca-8375-125fb70b4774",
   "metadata": {},
   "outputs": [
    {
     "data": {
      "text/plain": [
       "'es_transportation'        505119\n",
       "'es_food'                   26254\n",
       "'es_health'                 16133\n",
       "'es_wellnessandbeauty'      15086\n",
       "'es_fashion'                 6454\n",
       "'es_barsandrestaurants'      6373\n",
       "'es_hyper'                   6098\n",
       "'es_sportsandtoys'           4002\n",
       "'es_tech'                    2370\n",
       "'es_home'                    1986\n",
       "'es_hotelservices'           1744\n",
       "'es_otherservices'            912\n",
       "'es_contents'                 885\n",
       "'es_travel'                   728\n",
       "'es_leisure'                  499\n",
       "Name: category, dtype: int64"
      ]
     },
     "execution_count": 10,
     "metadata": {},
     "output_type": "execute_result"
    }
   ],
   "source": [
    "df['category'].value_counts()"
   ]
  },
  {
   "cell_type": "markdown",
   "id": "1b41ea4b-92a8-4bef-b243-cf25aa0eaa87",
   "metadata": {},
   "source": [
    "There are 15 different types of category, the most recurring being es_transportation, which covers 85% of transactions."
   ]
  },
  {
   "cell_type": "markdown",
   "id": "f23f6a02-1649-4062-966c-10a228e8c8d7",
   "metadata": {},
   "source": [
    "##### The mean of amount and percentage of fraud by category"
   ]
  },
  {
   "cell_type": "code",
   "execution_count": 11,
   "id": "42aa0a6c-7940-4f11-a645-4291cfceead5",
   "metadata": {},
   "outputs": [
    {
     "name": "stderr",
     "output_type": "stream",
     "text": [
      "<ipython-input-11-b8f286270c14>:1: FutureWarning: Indexing with multiple keys (implicitly converted to a tuple of keys) will be deprecated, use a list instead.\n",
      "  df.groupby('category')['amount','fraud'].mean()\n"
     ]
    },
    {
     "data": {
      "text/html": [
       "<div>\n",
       "<style scoped>\n",
       "    .dataframe tbody tr th:only-of-type {\n",
       "        vertical-align: middle;\n",
       "    }\n",
       "\n",
       "    .dataframe tbody tr th {\n",
       "        vertical-align: top;\n",
       "    }\n",
       "\n",
       "    .dataframe thead th {\n",
       "        text-align: right;\n",
       "    }\n",
       "</style>\n",
       "<table border=\"1\" class=\"dataframe\">\n",
       "  <thead>\n",
       "    <tr style=\"text-align: right;\">\n",
       "      <th></th>\n",
       "      <th>amount</th>\n",
       "      <th>fraud</th>\n",
       "    </tr>\n",
       "    <tr>\n",
       "      <th>category</th>\n",
       "      <th></th>\n",
       "      <th></th>\n",
       "    </tr>\n",
       "  </thead>\n",
       "  <tbody>\n",
       "    <tr>\n",
       "      <th>'es_barsandrestaurants'</th>\n",
       "      <td>43.461014</td>\n",
       "      <td>0.018829</td>\n",
       "    </tr>\n",
       "    <tr>\n",
       "      <th>'es_contents'</th>\n",
       "      <td>44.547571</td>\n",
       "      <td>0.000000</td>\n",
       "    </tr>\n",
       "    <tr>\n",
       "      <th>'es_fashion'</th>\n",
       "      <td>65.666642</td>\n",
       "      <td>0.017973</td>\n",
       "    </tr>\n",
       "    <tr>\n",
       "      <th>'es_food'</th>\n",
       "      <td>37.070405</td>\n",
       "      <td>0.000000</td>\n",
       "    </tr>\n",
       "    <tr>\n",
       "      <th>'es_health'</th>\n",
       "      <td>135.621367</td>\n",
       "      <td>0.105126</td>\n",
       "    </tr>\n",
       "    <tr>\n",
       "      <th>'es_home'</th>\n",
       "      <td>165.670846</td>\n",
       "      <td>0.152064</td>\n",
       "    </tr>\n",
       "    <tr>\n",
       "      <th>'es_hotelservices'</th>\n",
       "      <td>205.614249</td>\n",
       "      <td>0.314220</td>\n",
       "    </tr>\n",
       "    <tr>\n",
       "      <th>'es_hyper'</th>\n",
       "      <td>45.970421</td>\n",
       "      <td>0.045917</td>\n",
       "    </tr>\n",
       "    <tr>\n",
       "      <th>'es_leisure'</th>\n",
       "      <td>288.911303</td>\n",
       "      <td>0.949900</td>\n",
       "    </tr>\n",
       "    <tr>\n",
       "      <th>'es_otherservices'</th>\n",
       "      <td>135.881524</td>\n",
       "      <td>0.250000</td>\n",
       "    </tr>\n",
       "    <tr>\n",
       "      <th>'es_sportsandtoys'</th>\n",
       "      <td>215.715280</td>\n",
       "      <td>0.495252</td>\n",
       "    </tr>\n",
       "    <tr>\n",
       "      <th>'es_tech'</th>\n",
       "      <td>120.947937</td>\n",
       "      <td>0.066667</td>\n",
       "    </tr>\n",
       "    <tr>\n",
       "      <th>'es_transportation'</th>\n",
       "      <td>26.958187</td>\n",
       "      <td>0.000000</td>\n",
       "    </tr>\n",
       "    <tr>\n",
       "      <th>'es_travel'</th>\n",
       "      <td>2250.409190</td>\n",
       "      <td>0.793956</td>\n",
       "    </tr>\n",
       "    <tr>\n",
       "      <th>'es_wellnessandbeauty'</th>\n",
       "      <td>65.511221</td>\n",
       "      <td>0.047594</td>\n",
       "    </tr>\n",
       "  </tbody>\n",
       "</table>\n",
       "</div>"
      ],
      "text/plain": [
       "                              amount     fraud\n",
       "category                                      \n",
       "'es_barsandrestaurants'    43.461014  0.018829\n",
       "'es_contents'              44.547571  0.000000\n",
       "'es_fashion'               65.666642  0.017973\n",
       "'es_food'                  37.070405  0.000000\n",
       "'es_health'               135.621367  0.105126\n",
       "'es_home'                 165.670846  0.152064\n",
       "'es_hotelservices'        205.614249  0.314220\n",
       "'es_hyper'                 45.970421  0.045917\n",
       "'es_leisure'              288.911303  0.949900\n",
       "'es_otherservices'        135.881524  0.250000\n",
       "'es_sportsandtoys'        215.715280  0.495252\n",
       "'es_tech'                 120.947937  0.066667\n",
       "'es_transportation'        26.958187  0.000000\n",
       "'es_travel'              2250.409190  0.793956\n",
       "'es_wellnessandbeauty'     65.511221  0.047594"
      ]
     },
     "execution_count": 11,
     "metadata": {},
     "output_type": "execute_result"
    }
   ],
   "source": [
    "df.groupby('category')['amount','fraud'].mean()"
   ]
  },
  {
   "cell_type": "markdown",
   "id": "21d1f902-5d79-4cfe-9ccb-4d17e5875555",
   "metadata": {},
   "source": [
    "It seems that leisure (es_leisure) and travel (es_travel) are the categories most selected by fraudsters.\n",
    "\n",
    "The fraudsters chose the categories in which people spend the most on average."
   ]
  },
  {
   "cell_type": "markdown",
   "id": "52234037-88d0-4035-831c-e606fae425c3",
   "metadata": {},
   "source": [
    "To confirm the above, two Dataframes are created differentiating fraudulent transactions from those that are not."
   ]
  },
  {
   "cell_type": "code",
   "execution_count": 12,
   "id": "41a806a4-cbed-45f4-b71e-5cd66eb6fe31",
   "metadata": {},
   "outputs": [],
   "source": [
    "fraud = df.loc[df.fraud == 1] \n",
    "non_fraud = df.loc[df.fraud == 0]"
   ]
  },
  {
   "cell_type": "code",
   "execution_count": 13,
   "id": "5125648e-14af-4e6a-8c39-dc1dcbaca144",
   "metadata": {
    "tags": []
   },
   "outputs": [
    {
     "data": {
      "text/html": [
       "<div>\n",
       "<style scoped>\n",
       "    .dataframe tbody tr th:only-of-type {\n",
       "        vertical-align: middle;\n",
       "    }\n",
       "\n",
       "    .dataframe tbody tr th {\n",
       "        vertical-align: top;\n",
       "    }\n",
       "\n",
       "    .dataframe thead th {\n",
       "        text-align: right;\n",
       "    }\n",
       "</style>\n",
       "<table border=\"1\" class=\"dataframe\">\n",
       "  <thead>\n",
       "    <tr style=\"text-align: right;\">\n",
       "      <th></th>\n",
       "      <th>Fraud</th>\n",
       "      <th>Non-Fraud</th>\n",
       "      <th>Presentage(%)</th>\n",
       "    </tr>\n",
       "    <tr>\n",
       "      <th>category</th>\n",
       "      <th></th>\n",
       "      <th></th>\n",
       "      <th></th>\n",
       "    </tr>\n",
       "  </thead>\n",
       "  <tbody>\n",
       "    <tr>\n",
       "      <th>'es_leisure'</th>\n",
       "      <td>300.286878</td>\n",
       "      <td>73.230400</td>\n",
       "      <td>94.989980</td>\n",
       "    </tr>\n",
       "    <tr>\n",
       "      <th>'es_travel'</th>\n",
       "      <td>2660.802872</td>\n",
       "      <td>669.025533</td>\n",
       "      <td>79.395604</td>\n",
       "    </tr>\n",
       "    <tr>\n",
       "      <th>'es_sportsandtoys'</th>\n",
       "      <td>345.366811</td>\n",
       "      <td>88.502738</td>\n",
       "      <td>49.525237</td>\n",
       "    </tr>\n",
       "    <tr>\n",
       "      <th>'es_hotelservices'</th>\n",
       "      <td>421.823339</td>\n",
       "      <td>106.548545</td>\n",
       "      <td>31.422018</td>\n",
       "    </tr>\n",
       "    <tr>\n",
       "      <th>'es_otherservices'</th>\n",
       "      <td>316.469605</td>\n",
       "      <td>75.685497</td>\n",
       "      <td>25.000000</td>\n",
       "    </tr>\n",
       "    <tr>\n",
       "      <th>'es_home'</th>\n",
       "      <td>457.484834</td>\n",
       "      <td>113.338409</td>\n",
       "      <td>15.206445</td>\n",
       "    </tr>\n",
       "    <tr>\n",
       "      <th>'es_health'</th>\n",
       "      <td>407.031338</td>\n",
       "      <td>103.737228</td>\n",
       "      <td>10.512614</td>\n",
       "    </tr>\n",
       "    <tr>\n",
       "      <th>'es_tech'</th>\n",
       "      <td>415.274114</td>\n",
       "      <td>99.924638</td>\n",
       "      <td>6.666667</td>\n",
       "    </tr>\n",
       "    <tr>\n",
       "      <th>'es_wellnessandbeauty'</th>\n",
       "      <td>229.422535</td>\n",
       "      <td>57.320219</td>\n",
       "      <td>4.759380</td>\n",
       "    </tr>\n",
       "    <tr>\n",
       "      <th>'es_hyper'</th>\n",
       "      <td>169.255429</td>\n",
       "      <td>40.037145</td>\n",
       "      <td>4.591669</td>\n",
       "    </tr>\n",
       "    <tr>\n",
       "      <th>'es_barsandrestaurants'</th>\n",
       "      <td>164.092667</td>\n",
       "      <td>41.145997</td>\n",
       "      <td>1.882944</td>\n",
       "    </tr>\n",
       "    <tr>\n",
       "      <th>'es_fashion'</th>\n",
       "      <td>247.008190</td>\n",
       "      <td>62.347674</td>\n",
       "      <td>1.797335</td>\n",
       "    </tr>\n",
       "    <tr>\n",
       "      <th>'es_contents'</th>\n",
       "      <td>NaN</td>\n",
       "      <td>44.547571</td>\n",
       "      <td>0.000000</td>\n",
       "    </tr>\n",
       "    <tr>\n",
       "      <th>'es_food'</th>\n",
       "      <td>NaN</td>\n",
       "      <td>37.070405</td>\n",
       "      <td>0.000000</td>\n",
       "    </tr>\n",
       "    <tr>\n",
       "      <th>'es_transportation'</th>\n",
       "      <td>NaN</td>\n",
       "      <td>26.958187</td>\n",
       "      <td>0.000000</td>\n",
       "    </tr>\n",
       "  </tbody>\n",
       "</table>\n",
       "</div>"
      ],
      "text/plain": [
       "                               Fraud   Non-Fraud  Presentage(%)\n",
       "category                                                       \n",
       "'es_leisure'              300.286878   73.230400      94.989980\n",
       "'es_travel'              2660.802872  669.025533      79.395604\n",
       "'es_sportsandtoys'        345.366811   88.502738      49.525237\n",
       "'es_hotelservices'        421.823339  106.548545      31.422018\n",
       "'es_otherservices'        316.469605   75.685497      25.000000\n",
       "'es_home'                 457.484834  113.338409      15.206445\n",
       "'es_health'               407.031338  103.737228      10.512614\n",
       "'es_tech'                 415.274114   99.924638       6.666667\n",
       "'es_wellnessandbeauty'    229.422535   57.320219       4.759380\n",
       "'es_hyper'                169.255429   40.037145       4.591669\n",
       "'es_barsandrestaurants'   164.092667   41.145997       1.882944\n",
       "'es_fashion'              247.008190   62.347674       1.797335\n",
       "'es_contents'                    NaN   44.547571       0.000000\n",
       "'es_food'                        NaN   37.070405       0.000000\n",
       "'es_transportation'              NaN   26.958187       0.000000"
      ]
     },
     "execution_count": 13,
     "metadata": {},
     "output_type": "execute_result"
    }
   ],
   "source": [
    "pd.concat([fraud.groupby('category')['amount'].mean(),non_fraud.groupby('category')['amount'].mean(),\\\n",
    "           df.groupby('category')['fraud'].mean()*100],keys=[\"Fraud\",\"Non-Fraud\",\"Presentage(%)\"],axis=1,\\\n",
    "          sort=False).sort_values(by=['Presentage(%)'],ascending=False)"
   ]
  },
  {
   "cell_type": "markdown",
   "id": "3755ca97-2c4a-4807-82c4-e6be31b15276",
   "metadata": {},
   "source": [
    "According to last figure, we can say that for a certain type of category, a fraudulent transaction will have a much higher amount which is about four times or more than the mean of amount of that category."
   ]
  },
  {
   "cell_type": "code",
   "execution_count": 14,
   "id": "756bc66e-3789-4e10-ad35-c4489758aeaf",
   "metadata": {},
   "outputs": [
    {
     "data": {
      "image/png": "[encoded data removed]",
      "text/plain": [
       "<Figure size 1080x720 with 1 Axes>"
      ]
     },
     "metadata": {
      "needs_background": "light"
     },
     "output_type": "display_data"
    }
   ],
   "source": [
    "plt.figure(figsize=(15,10))\n",
    "sns.boxplot(data = df, x = 'amount', y = 'category', palette='pastel')\n",
    "plt.title(\"The boxplot of Amount by Category Type\", fontsize=12)\n",
    "plt.xlabel(\"Amount\",fontsize=12)\n",
    "plt.ylabel(\"Category\",fontsize=12)\n",
    "plt.show()"
   ]
  },
  {
   "cell_type": "markdown",
   "id": "d375cadd-0713-4ee3-87b4-2d3b6e235000",
   "metadata": {},
   "source": [
    "The box plots of the amount incurred from fraudulent and non-fraudulent transactions which are plotted by category type.\n",
    "\n",
    "The categories have a similar average amount which is between 0 and 500 or 600 perhaps (ruling out widely dispersed outliers).\n",
    "\n",
    "The observable exception is the travel category, the amount is above average of the other categories."
   ]
  },
  {
   "cell_type": "code",
   "execution_count": 15,
   "id": "14fed5f2-66b0-44e3-96a5-6aff6e99a79f",
   "metadata": {},
   "outputs": [
    {
     "data": {
      "image/png": "[encoded data removed]",
      "text/plain": [
       "<Figure size 432x288 with 1 Axes>"
      ]
     },
     "metadata": {
      "needs_background": "light"
     },
     "output_type": "display_data"
    }
   ],
   "source": [
    "plt.hist(data = fraud, x = 'amount', alpha=0.5, label='Fraud',bins=100,edgecolor=\"black\")\n",
    "plt.hist(data = non_fraud, x = 'amount', alpha=0.5, label='Non-Fraud',bins=100,edgecolor=\"black\")\n",
    "plt.title(\"Histogram of Fraud and Non-Fraud Transactions\")\n",
    "plt.xlabel('Transaction Amount');\n",
    "plt.ylabel('Number of Transactions');\n",
    "plt.ylim(0,1250)\n",
    "plt.xlim(0,1000)\n",
    "plt.legend()\n",
    "plt.show()"
   ]
  },
  {
   "cell_type": "markdown",
   "id": "94f2c897-d247-493c-9c25-5d5a75cd62aa",
   "metadata": {},
   "source": [
    "Once again we can see in the histogram, the fradulent transactions are less in quantity but more in amount.\n",
    "\n",
    "With amounts greater than 400, we could already suspect that there is fraud."
   ]
  },
  {
   "cell_type": "markdown",
   "id": "84a06df3-dc5c-453c-a4ae-8a11ed61dc10",
   "metadata": {},
   "source": [
    "##### Fraud Analysis by Age"
   ]
  },
  {
   "cell_type": "code",
   "execution_count": 15,
   "id": "6b92bc9e-2fd5-4202-8a37-5060732f4457",
   "metadata": {},
   "outputs": [
    {
     "data": {
      "text/plain": [
       "'2'    187310\n",
       "'3'    147131\n",
       "'4'    109025\n",
       "'5'     62642\n",
       "'1'     58131\n",
       "'6'     26774\n",
       "'0'      2452\n",
       "'U'      1178\n",
       "Name: age, dtype: int64"
      ]
     },
     "execution_count": 15,
     "metadata": {},
     "output_type": "execute_result"
    }
   ],
   "source": [
    "df['age'].value_counts()"
   ]
  },
  {
   "cell_type": "markdown",
   "id": "542c7c14-25f0-440f-9755-ab4c96171032",
   "metadata": {},
   "source": [
    "As we saw previously, the transactions are categorized by age group, and the category 'U' represents the unknown ages.\n",
    "\n",
    "The bands that carried out the most transactions are 2, 3 and 4 (in that order), that is, those who are between 26 and 55 years old. Since they are people of working age and who are also have adapted to the use of technological tools."
   ]
  },
  {
   "cell_type": "markdown",
   "id": "150e1c33-1947-40dc-9cad-9d8301bffe84",
   "metadata": {},
   "source": [
    "##### Analysis of the feature Steps"
   ]
  },
  {
   "cell_type": "code",
   "execution_count": 16,
   "id": "77d2d54f-1a03-465e-9c9a-ea2d40694de2",
   "metadata": {},
   "outputs": [
    {
     "data": {
      "text/plain": [
       "175    3774\n",
       "177    3758\n",
       "152    3746\n",
       "178    3743\n",
       "174    3743\n",
       "       ... \n",
       "5      2525\n",
       "3      2499\n",
       "2      2462\n",
       "0      2430\n",
       "1      2424\n",
       "Name: step, Length: 180, dtype: int64"
      ]
     },
     "execution_count": 16,
     "metadata": {},
     "output_type": "execute_result"
    }
   ],
   "source": [
    "df['step'].value_counts()"
   ]
  },
  {
   "cell_type": "markdown",
   "id": "82331be9-82a9-4bcf-b981-2b57ac7c0051",
   "metadata": {},
   "source": [
    "As stated above, step represents the day since the start of the simulation and it is 180 days totally.\n",
    "\n",
    "Apparently, the distribution of the data for each day seems quite balanced. The day with the most transactions (day 175) representing 0.6% in total. The day with the last transactions (day 1) representing 0.4% which shows an evolution of the number of transactions of 0.03% per month."
   ]
  },
  {
   "cell_type": "markdown",
   "id": "72ecdbdf-1b7c-4739-8f5a-d63fe7f341f9",
   "metadata": {},
   "source": [
    "##### Analysis of the feature Gender"
   ]
  },
  {
   "cell_type": "code",
   "execution_count": 17,
   "id": "4645ecb3-e518-40d5-a850-e10c45919d49",
   "metadata": {},
   "outputs": [
    {
     "data": {
      "text/plain": [
       "'F'    324565\n",
       "'M'    268385\n",
       "'E'      1178\n",
       "'U'       515\n",
       "Name: gender, dtype: int64"
      ]
     },
     "execution_count": 17,
     "metadata": {},
     "output_type": "execute_result"
    }
   ],
   "source": [
    "df['gender'].value_counts()"
   ]
  },
  {
   "cell_type": "markdown",
   "id": "04cd711b-9fe9-4ff0-ba81-94cd897c519d",
   "metadata": {},
   "source": [
    "The Female and Male genders are the ones that carried out the most transactions."
   ]
  },
  {
   "cell_type": "markdown",
   "id": "7790503f-97eb-4f81-bd0d-4589506ba3d6",
   "metadata": {},
   "source": [
    "##### Analysis of the feature Customer"
   ]
  },
  {
   "cell_type": "code",
   "execution_count": 18,
   "id": "2fdb6881-d466-49f3-8429-5288680ec91f",
   "metadata": {},
   "outputs": [
    {
     "data": {
      "text/plain": [
       "'C1978250683'    265\n",
       "'C1275518867'    252\n",
       "'C806399525'     237\n",
       "'C515668508'     205\n",
       "'C1338396147'    195\n",
       "                ... \n",
       "'C1156745710'      6\n",
       "'C1345586046'      6\n",
       "'C1743702978'      5\n",
       "'C1404665203'      5\n",
       "'C1809646275'      5\n",
       "Name: customer, Length: 4112, dtype: int64"
      ]
     },
     "execution_count": 18,
     "metadata": {},
     "output_type": "execute_result"
    }
   ],
   "source": [
    "df['customer'].value_counts()"
   ]
  },
  {
   "cell_type": "markdown",
   "id": "43f469a7-48ff-4157-b211-d65d56228dc0",
   "metadata": {},
   "source": [
    "We have a total of 4,112 clients.\n",
    "\n",
    "The client with the highest number of transactions is 'C1978250683', with 265 transactions (which represents 0.04% of total transactions).\n",
    "\n",
    "This feature does not seem to be a determining variable when it comes to establishing whether a transaction is fraudulent or not."
   ]
  },
  {
   "cell_type": "markdown",
   "id": "86d63ea5-73ba-48f0-82c2-70063518bfd9",
   "metadata": {},
   "source": [
    "##### Analysis of the feature Zip Codes"
   ]
  },
  {
   "cell_type": "code",
   "execution_count": 19,
   "id": "afeb2536-a925-41e8-bdc1-591f307b9518",
   "metadata": {},
   "outputs": [
    {
     "data": {
      "text/plain": [
       "'28007'    594643\n",
       "Name: zipcodeOri, dtype: int64"
      ]
     },
     "execution_count": 19,
     "metadata": {},
     "output_type": "execute_result"
    }
   ],
   "source": [
    "df['zipcodeOri'].value_counts()"
   ]
  },
  {
   "cell_type": "markdown",
   "id": "b79ed72b-15a1-402a-bb0e-8631cec8c953",
   "metadata": {},
   "source": [
    "##### Analysis of the feature Zip Merchant"
   ]
  },
  {
   "cell_type": "code",
   "execution_count": 20,
   "id": "85ace8dd-1da3-46b1-813b-e6f44e27dfbe",
   "metadata": {},
   "outputs": [
    {
     "data": {
      "text/plain": [
       "'28007'    594643\n",
       "Name: zipMerchant, dtype: int64"
      ]
     },
     "execution_count": 20,
     "metadata": {},
     "output_type": "execute_result"
    }
   ],
   "source": [
    "df['zipMerchant'].value_counts()"
   ]
  },
  {
   "cell_type": "markdown",
   "id": "8f58089b-d8a9-496b-bc58-a28ec605b13e",
   "metadata": {},
   "source": [
    "There is only one type of Zip Code Origin and Merchant, so it is no meaning to analysis after on."
   ]
  },
  {
   "cell_type": "markdown",
   "id": "8627b628-764b-4ffa-9df6-b60ca5d98df5",
   "metadata": {},
   "source": [
    "##### Analysis of the feature Merchant"
   ]
  },
  {
   "cell_type": "code",
   "execution_count": 21,
   "id": "60cf237b-fab9-44d9-88ad-7b27f5396210",
   "metadata": {},
   "outputs": [
    {
     "data": {
      "text/plain": [
       "'M1823072687'    299693\n",
       "'M348934600'     205426\n",
       "'M85975013'       26254\n",
       "'M1053599405'      6821\n",
       "'M151143676'       6373\n",
       "'M855959430'       6098\n",
       "'M1946091778'      5343\n",
       "'M1913465890'      3988\n",
       "'M209847108'       3814\n",
       "'M480139044'       3508\n",
       "'M349281107'       2881\n",
       "'M1600850729'      2624\n",
       "'M1535107174'      1868\n",
       "'M980657600'       1769\n",
       "'M78078399'        1608\n",
       "'M1198415165'      1580\n",
       "'M840466850'       1399\n",
       "'M1649169323'      1173\n",
       "'M547558035'        949\n",
       "'M50039827'         916\n",
       "'M1888755466'       912\n",
       "'M692898500'        900\n",
       "'M1400236507'       776\n",
       "'M1842530320'       751\n",
       "'M732195782'        608\n",
       "'M97925176'         599\n",
       "'M45060432'         573\n",
       "'M1741626453'       528\n",
       "'M1313686961'       527\n",
       "'M1872033263'       525\n",
       "'M1352454843'       370\n",
       "'M677738360'        358\n",
       "'M2122776122'       341\n",
       "'M923029380'        323\n",
       "'M3697346'          308\n",
       "'M17379832'         282\n",
       "'M1748431652'       274\n",
       "'M1873032707'       250\n",
       "'M2011752106'       244\n",
       "'M1416436880'       220\n",
       "'M1294758098'       191\n",
       "'M1788569036'       181\n",
       "'M857378720'        122\n",
       "'M348875670'        107\n",
       "'M1353266412'        78\n",
       "'M933210764'         69\n",
       "'M495352832'         69\n",
       "'M2080407379'        48\n",
       "'M117188757'         21\n",
       "'M1726401631'         3\n",
       "Name: merchant, dtype: int64"
      ]
     },
     "execution_count": 21,
     "metadata": {},
     "output_type": "execute_result"
    }
   ],
   "source": [
    "df['merchant'].value_counts()"
   ]
  },
  {
   "cell_type": "markdown",
   "id": "11a5d4e1-97ae-450c-bd7e-a28d80b3b46d",
   "metadata": {},
   "source": [
    "There are 50 merchants in total. The highest number of transactions is 'M1823072687', which has 299,693 transactions (50.4% of total transactions) and the second is 'M348934600' which has 205,426 operations (34.5%).\n",
    "\n",
    "Between the first and second merchant with the most operations, they represent 84.9% of total transactions."
   ]
  },
  {
   "cell_type": "code",
   "execution_count": 22,
   "id": "61678742-50ef-43db-9880-8a33bcfd2f9f",
   "metadata": {},
   "outputs": [
    {
     "name": "stdout",
     "output_type": "stream",
     "text": [
      "                 Fraud  Non_fraud  Percentage\n",
      "merchant                                     \n",
      "'M1294758098'   297.87      74.01       96.34\n",
      "'M3697346'      301.82      72.93       94.16\n",
      "'M1873032707'   419.69     100.17       86.40\n",
      "'M732195782'   2608.07     696.47       85.20\n",
      "'M980657600'    343.28      85.27       83.21\n",
      "'M1353266412'   440.32      92.13       82.05\n",
      "'M857378720'    434.38     116.58       75.41\n",
      "'M2080407379'  2877.32     566.10       75.00\n",
      "'M2011752106'   423.17     111.63       68.03\n",
      "'M17379832'     342.11      93.38       63.12\n",
      "'M2122776122'   469.45     114.26       58.65\n",
      "'M480139044'    406.86     103.30       46.58\n",
      "'M1741626453'   324.55      84.07       37.12\n",
      "'M495352832'   3474.22     629.12       34.78\n",
      "'M923029380'    434.03     100.38       31.58\n",
      "'M1888755466'   316.47      75.69       25.00\n",
      "'M1198415165'   224.00      56.72       22.66\n",
      "'M933210764'    322.46      84.12       17.39\n",
      "'M1748431652'   205.93      56.95       13.14\n",
      "'M547558035'    247.01      61.45       12.22\n",
      "'M840466850'    415.27     101.66       11.29\n",
      "'M1649169323'   409.90      89.51       10.57\n",
      "'M348875670'    211.49     111.39        9.35\n",
      "'M1535107174'   238.82      57.88        9.31\n",
      "'M50039827'     409.39     105.23        5.02\n",
      "'M855959430'    169.26      40.04        4.59\n",
      "'M209847108'    231.36      57.56        2.78\n",
      "'M78078399'     250.92      57.79        2.74\n",
      "'M151143676'    164.09      41.15        1.88\n",
      "'M692898500'    418.04     105.15        1.78\n",
      "'M1842530320'      NaN      99.59        0.00\n",
      "'M85975013'        NaN      37.07        0.00\n",
      "'M677738360'       NaN      44.48        0.00\n",
      "'M45060432'        NaN     103.03        0.00\n",
      "'M349281107'       NaN      61.93        0.00\n",
      "'M348934600'       NaN      26.97        0.00\n",
      "'M1946091778'      NaN      57.07        0.00\n",
      "'M1913465890'      NaN     104.44        0.00\n",
      "'M1872033263'      NaN     114.77        0.00\n",
      "'M1788569036'      NaN      94.69        0.00\n",
      "'M1823072687'      NaN      26.95        0.00\n",
      "'M1726401631'      NaN     855.92        0.00\n",
      "'M1600850729'      NaN      63.09        0.00\n",
      "'M1416436880'      NaN      91.27        0.00\n",
      "'M1400236507'      NaN     116.12        0.00\n",
      "'M1352454843'      NaN     109.98        0.00\n",
      "'M1313686961'      NaN      44.59        0.00\n",
      "'M117188757'       NaN     105.10        0.00\n",
      "'M1053599405'      NaN     103.07        0.00\n",
      "'M97925176'        NaN      56.64        0.00\n"
     ]
    }
   ],
   "source": [
    "mer_frame = pd.concat([fraud.groupby('merchant')['amount'].mean(),non_fraud.groupby('merchant')['amount'].mean(),\\\n",
    "           df.groupby('merchant')['fraud'].mean()*100],keys=[\"Fraud\",\"Non_fraud\",\"Percentage\"],axis=1,\\\n",
    "          sort=False).sort_values(by=['Percentage'],ascending=False)\n",
    "\n",
    "print(round(mer_frame, 2))"
   ]
  },
  {
   "cell_type": "markdown",
   "id": "c7022623-00aa-474a-a9b1-34b098a45248",
   "metadata": {},
   "source": [
    "The type of merchant seems to be important when establishing whether or not a transaction is fraudulent, according to the average expense shown for each of them.\n",
    "\n",
    "A merchant that presents a high average amount in its operations. For example, a certain travel agency."
   ]
  },
  {
   "cell_type": "markdown",
   "id": "392fa928-6ffc-4975-aae9-86e3568fab11",
   "metadata": {},
   "source": [
    "### Data Preprocessing"
   ]
  },
  {
   "cell_type": "code",
   "execution_count": 23,
   "id": "85f30a55-bcbb-44eb-821a-efe69cd13f41",
   "metadata": {},
   "outputs": [
    {
     "data": {
      "text/html": [
       "<div>\n",
       "<style scoped>\n",
       "    .dataframe tbody tr th:only-of-type {\n",
       "        vertical-align: middle;\n",
       "    }\n",
       "\n",
       "    .dataframe tbody tr th {\n",
       "        vertical-align: top;\n",
       "    }\n",
       "\n",
       "    .dataframe thead th {\n",
       "        text-align: right;\n",
       "    }\n",
       "</style>\n",
       "<table border=\"1\" class=\"dataframe\">\n",
       "  <thead>\n",
       "    <tr style=\"text-align: right;\">\n",
       "      <th></th>\n",
       "      <th>step</th>\n",
       "      <th>age</th>\n",
       "      <th>gender</th>\n",
       "      <th>merchant</th>\n",
       "      <th>category</th>\n",
       "      <th>amount</th>\n",
       "      <th>fraud</th>\n",
       "    </tr>\n",
       "  </thead>\n",
       "  <tbody>\n",
       "    <tr>\n",
       "      <th>558842</th>\n",
       "      <td>170</td>\n",
       "      <td>'5'</td>\n",
       "      <td>'F'</td>\n",
       "      <td>'M348934600'</td>\n",
       "      <td>'es_transportation'</td>\n",
       "      <td>23.29</td>\n",
       "      <td>0</td>\n",
       "    </tr>\n",
       "    <tr>\n",
       "      <th>477295</th>\n",
       "      <td>148</td>\n",
       "      <td>'2'</td>\n",
       "      <td>'F'</td>\n",
       "      <td>'M348934600'</td>\n",
       "      <td>'es_transportation'</td>\n",
       "      <td>8.13</td>\n",
       "      <td>0</td>\n",
       "    </tr>\n",
       "    <tr>\n",
       "      <th>47151</th>\n",
       "      <td>18</td>\n",
       "      <td>'4'</td>\n",
       "      <td>'M'</td>\n",
       "      <td>'M348934600'</td>\n",
       "      <td>'es_transportation'</td>\n",
       "      <td>0.44</td>\n",
       "      <td>0</td>\n",
       "    </tr>\n",
       "    <tr>\n",
       "      <th>439875</th>\n",
       "      <td>138</td>\n",
       "      <td>'2'</td>\n",
       "      <td>'F'</td>\n",
       "      <td>'M1600850729'</td>\n",
       "      <td>'es_fashion'</td>\n",
       "      <td>25.93</td>\n",
       "      <td>0</td>\n",
       "    </tr>\n",
       "    <tr>\n",
       "      <th>521435</th>\n",
       "      <td>160</td>\n",
       "      <td>'3'</td>\n",
       "      <td>'M'</td>\n",
       "      <td>'M151143676'</td>\n",
       "      <td>'es_barsandrestaurants'</td>\n",
       "      <td>22.91</td>\n",
       "      <td>0</td>\n",
       "    </tr>\n",
       "  </tbody>\n",
       "</table>\n",
       "</div>"
      ],
      "text/plain": [
       "        step  age gender       merchant                 category  amount  \\\n",
       "558842   170  '5'    'F'   'M348934600'      'es_transportation'   23.29   \n",
       "477295   148  '2'    'F'   'M348934600'      'es_transportation'    8.13   \n",
       "47151     18  '4'    'M'   'M348934600'      'es_transportation'    0.44   \n",
       "439875   138  '2'    'F'  'M1600850729'             'es_fashion'   25.93   \n",
       "521435   160  '3'    'M'   'M151143676'  'es_barsandrestaurants'   22.91   \n",
       "\n",
       "        fraud  \n",
       "558842      0  \n",
       "477295      0  \n",
       "47151       0  \n",
       "439875      0  \n",
       "521435      0  "
      ]
     },
     "execution_count": 23,
     "metadata": {},
     "output_type": "execute_result"
    }
   ],
   "source": [
    "df2 = df.drop(['customer','zipcodeOri','zipMerchant'],axis=1)\n",
    "\n",
    "df2.head()"
   ]
  },
  {
   "cell_type": "markdown",
   "id": "6199c390-45f3-43b0-9ecc-6707d45005b5",
   "metadata": {},
   "source": [
    "The 3 eliminated features are considered not very relevant for our analysis, according to what was stated in the previous points."
   ]
  },
  {
   "cell_type": "code",
   "execution_count": 24,
   "id": "612ac8d7-2cec-4788-b7c8-5a2df7bc9597",
   "metadata": {},
   "outputs": [
    {
     "data": {
      "text/plain": [
       "step          int64\n",
       "age          object\n",
       "gender       object\n",
       "merchant     object\n",
       "category     object\n",
       "amount      float64\n",
       "fraud         int64\n",
       "dtype: object"
      ]
     },
     "execution_count": 24,
     "metadata": {},
     "output_type": "execute_result"
    }
   ],
   "source": [
    "df2.dtypes"
   ]
  },
  {
   "cell_type": "markdown",
   "id": "27b1eb7c-6bd3-4d40-bd44-e806dd3c69f5",
   "metadata": {},
   "source": [
    "The transformation of the data will be carried out.\n",
    "\n",
    "The categorical features will be transformed to numerical values.\n",
    "\n",
    "The ideal would be to perform dummies, but due to the size of the dataset (around 600,000 rows) it could take too long."
   ]
  },
  {
   "cell_type": "code",
   "execution_count": 25,
   "id": "cfa65b8b-6049-4730-b9c5-18b0608f0c55",
   "metadata": {},
   "outputs": [
    {
     "data": {
      "text/html": [
       "<div>\n",
       "<style scoped>\n",
       "    .dataframe tbody tr th:only-of-type {\n",
       "        vertical-align: middle;\n",
       "    }\n",
       "\n",
       "    .dataframe tbody tr th {\n",
       "        vertical-align: top;\n",
       "    }\n",
       "\n",
       "    .dataframe thead th {\n",
       "        text-align: right;\n",
       "    }\n",
       "</style>\n",
       "<table border=\"1\" class=\"dataframe\">\n",
       "  <thead>\n",
       "    <tr style=\"text-align: right;\">\n",
       "      <th></th>\n",
       "      <th>step</th>\n",
       "      <th>age</th>\n",
       "      <th>gender</th>\n",
       "      <th>merchant</th>\n",
       "      <th>category</th>\n",
       "      <th>amount</th>\n",
       "      <th>fraud</th>\n",
       "    </tr>\n",
       "  </thead>\n",
       "  <tbody>\n",
       "    <tr>\n",
       "      <th>558842</th>\n",
       "      <td>170</td>\n",
       "      <td>5</td>\n",
       "      <td>1</td>\n",
       "      <td>30</td>\n",
       "      <td>12</td>\n",
       "      <td>23.29</td>\n",
       "      <td>0</td>\n",
       "    </tr>\n",
       "    <tr>\n",
       "      <th>477295</th>\n",
       "      <td>148</td>\n",
       "      <td>2</td>\n",
       "      <td>1</td>\n",
       "      <td>30</td>\n",
       "      <td>12</td>\n",
       "      <td>8.13</td>\n",
       "      <td>0</td>\n",
       "    </tr>\n",
       "    <tr>\n",
       "      <th>47151</th>\n",
       "      <td>18</td>\n",
       "      <td>4</td>\n",
       "      <td>2</td>\n",
       "      <td>30</td>\n",
       "      <td>12</td>\n",
       "      <td>0.44</td>\n",
       "      <td>0</td>\n",
       "    </tr>\n",
       "    <tr>\n",
       "      <th>439875</th>\n",
       "      <td>138</td>\n",
       "      <td>2</td>\n",
       "      <td>1</td>\n",
       "      <td>11</td>\n",
       "      <td>2</td>\n",
       "      <td>25.93</td>\n",
       "      <td>0</td>\n",
       "    </tr>\n",
       "    <tr>\n",
       "      <th>521435</th>\n",
       "      <td>160</td>\n",
       "      <td>3</td>\n",
       "      <td>2</td>\n",
       "      <td>9</td>\n",
       "      <td>0</td>\n",
       "      <td>22.91</td>\n",
       "      <td>0</td>\n",
       "    </tr>\n",
       "  </tbody>\n",
       "</table>\n",
       "</div>"
      ],
      "text/plain": [
       "        step  age  gender  merchant  category  amount  fraud\n",
       "558842   170    5       1        30        12   23.29      0\n",
       "477295   148    2       1        30        12    8.13      0\n",
       "47151     18    4       2        30        12    0.44      0\n",
       "439875   138    2       1        11         2   25.93      0\n",
       "521435   160    3       2         9         0   22.91      0"
      ]
     },
     "execution_count": 25,
     "metadata": {},
     "output_type": "execute_result"
    }
   ],
   "source": [
    "for col_name in df2.columns:\n",
    "    if(df2[col_name].dtype == 'object'):\n",
    "        df2[col_name]= df2[col_name].astype('category')\n",
    "        df2[col_name] = df2[col_name].cat.codes   \n",
    "\n",
    "df2.head()"
   ]
  },
  {
   "cell_type": "code",
   "execution_count": 26,
   "id": "a5727d99-9aa7-401e-ab04-cc1f52527cd1",
   "metadata": {},
   "outputs": [
    {
     "data": {
      "text/plain": [
       "step          int64\n",
       "age            int8\n",
       "gender         int8\n",
       "merchant       int8\n",
       "category       int8\n",
       "amount      float64\n",
       "fraud         int64\n",
       "dtype: object"
      ]
     },
     "execution_count": 26,
     "metadata": {},
     "output_type": "execute_result"
    }
   ],
   "source": [
    "df2.dtypes"
   ]
  },
  {
   "cell_type": "markdown",
   "id": "64650ce1-b132-4fde-a772-253faf931ec6",
   "metadata": {},
   "source": [
    "The expected data type conversion was obtained."
   ]
  },
  {
   "cell_type": "markdown",
   "id": "1b46f8d9-f80e-44cd-9ea0-d6b9fc983e25",
   "metadata": {},
   "source": [
    "##### Finding the correlations cross with the features"
   ]
  },
  {
   "cell_type": "code",
   "execution_count": 27,
   "id": "128f2d50-c2a3-4214-9296-cc8bc87aa1be",
   "metadata": {},
   "outputs": [
    {
     "data": {
      "text/plain": [
       "<AxesSubplot:>"
      ]
     },
     "execution_count": 27,
     "metadata": {},
     "output_type": "execute_result"
    },
    {
     "data": {
      "image/png": "[encoded data removed]",
      "text/plain": [
       "<Figure size 720x576 with 2 Axes>"
      ]
     },
     "metadata": {
      "needs_background": "light"
     },
     "output_type": "display_data"
    }
   ],
   "source": [
    "df_corr = df2.corr()\n",
    "features = df_corr.index\n",
    "plt.figure(figsize=(10,8))\n",
    "sns.heatmap(df2[features].corr(), annot=True, cmap='YlGnBu')"
   ]
  },
  {
   "cell_type": "markdown",
   "id": "aac27849-50f8-449e-9020-903c7264581f",
   "metadata": {},
   "source": [
    "There is a positive correlation between Fraud and Amount incurred in the transaction, although it is not very high."
   ]
  },
  {
   "cell_type": "markdown",
   "id": "71c3403f-71c2-42f5-9c51-87a0d7214d10",
   "metadata": {},
   "source": [
    "##### Using boxplot to show the dataframe "
   ]
  },
  {
   "cell_type": "code",
   "execution_count": 28,
   "id": "9e081179-0b01-4dfd-8ba9-e563ae439216",
   "metadata": {},
   "outputs": [
    {
     "data": {
      "text/plain": [
       "<AxesSubplot:>"
      ]
     },
     "execution_count": 28,
     "metadata": {},
     "output_type": "execute_result"
    },
    {
     "data": {
      "image/png": "[encoded data removed]",
      "text/plain": [
       "<Figure size 1080x720 with 1 Axes>"
      ]
     },
     "metadata": {
      "needs_background": "light"
     },
     "output_type": "display_data"
    }
   ],
   "source": [
    "ax = plt.subplots(figsize=(15,10))\n",
    "sns.boxplot(data=df2)"
   ]
  },
  {
   "cell_type": "markdown",
   "id": "dfde7078-c9da-4a7e-b793-f9de37e6e48c",
   "metadata": {},
   "source": [
    "It noticed that the values of features are very wide range, and it will have inappropriate influence result when apply machine learning algorithms. \n",
    "\n",
    "Therefore, the values of features should normalise the variables. The purpose of normalization is to make all data in the same scale in every feature."
   ]
  },
  {
   "cell_type": "markdown",
   "id": "aa22a27f-8711-4b33-85fc-169a1cdd2041",
   "metadata": {},
   "source": [
    "##### Dividing the dataset "
   ]
  },
  {
   "cell_type": "code",
   "execution_count": 29,
   "id": "02365d72-b568-40d6-9a96-a6c9d889d1e9",
   "metadata": {},
   "outputs": [],
   "source": [
    "X = df2.drop(['fraud'], axis=1)\n",
    "y = df2['fraud']"
   ]
  },
  {
   "cell_type": "markdown",
   "id": "d94effae-5715-4f46-bffd-bf45473cc404",
   "metadata": {},
   "source": [
    "##### MinMaxScaler for min-max normalization"
   ]
  },
  {
   "cell_type": "code",
   "execution_count": 30,
   "id": "ba4b637e-93fd-4f0e-ab34-ea1939a3204f",
   "metadata": {},
   "outputs": [
    {
     "data": {
      "text/html": [
       "<div>\n",
       "<style scoped>\n",
       "    .dataframe tbody tr th:only-of-type {\n",
       "        vertical-align: middle;\n",
       "    }\n",
       "\n",
       "    .dataframe tbody tr th {\n",
       "        vertical-align: top;\n",
       "    }\n",
       "\n",
       "    .dataframe thead th {\n",
       "        text-align: right;\n",
       "    }\n",
       "</style>\n",
       "<table border=\"1\" class=\"dataframe\">\n",
       "  <thead>\n",
       "    <tr style=\"text-align: right;\">\n",
       "      <th></th>\n",
       "      <th>step</th>\n",
       "      <th>age</th>\n",
       "      <th>gender</th>\n",
       "      <th>merchant</th>\n",
       "      <th>category</th>\n",
       "      <th>amount</th>\n",
       "    </tr>\n",
       "  </thead>\n",
       "  <tbody>\n",
       "    <tr>\n",
       "      <th>0</th>\n",
       "      <td>0.949721</td>\n",
       "      <td>0.714286</td>\n",
       "      <td>0.333333</td>\n",
       "      <td>0.612245</td>\n",
       "      <td>0.857143</td>\n",
       "      <td>0.002796</td>\n",
       "    </tr>\n",
       "    <tr>\n",
       "      <th>1</th>\n",
       "      <td>0.826816</td>\n",
       "      <td>0.285714</td>\n",
       "      <td>0.333333</td>\n",
       "      <td>0.612245</td>\n",
       "      <td>0.857143</td>\n",
       "      <td>0.000976</td>\n",
       "    </tr>\n",
       "    <tr>\n",
       "      <th>2</th>\n",
       "      <td>0.100559</td>\n",
       "      <td>0.571429</td>\n",
       "      <td>0.666667</td>\n",
       "      <td>0.612245</td>\n",
       "      <td>0.857143</td>\n",
       "      <td>0.000053</td>\n",
       "    </tr>\n",
       "    <tr>\n",
       "      <th>3</th>\n",
       "      <td>0.770950</td>\n",
       "      <td>0.285714</td>\n",
       "      <td>0.333333</td>\n",
       "      <td>0.224490</td>\n",
       "      <td>0.142857</td>\n",
       "      <td>0.003113</td>\n",
       "    </tr>\n",
       "    <tr>\n",
       "      <th>4</th>\n",
       "      <td>0.893855</td>\n",
       "      <td>0.428571</td>\n",
       "      <td>0.666667</td>\n",
       "      <td>0.183673</td>\n",
       "      <td>0.000000</td>\n",
       "      <td>0.002750</td>\n",
       "    </tr>\n",
       "    <tr>\n",
       "      <th>...</th>\n",
       "      <td>...</td>\n",
       "      <td>...</td>\n",
       "      <td>...</td>\n",
       "      <td>...</td>\n",
       "      <td>...</td>\n",
       "      <td>...</td>\n",
       "    </tr>\n",
       "    <tr>\n",
       "      <th>594638</th>\n",
       "      <td>0.597765</td>\n",
       "      <td>0.428571</td>\n",
       "      <td>0.333333</td>\n",
       "      <td>0.612245</td>\n",
       "      <td>0.857143</td>\n",
       "      <td>0.003220</td>\n",
       "    </tr>\n",
       "    <tr>\n",
       "      <th>594639</th>\n",
       "      <td>0.564246</td>\n",
       "      <td>0.285714</td>\n",
       "      <td>0.666667</td>\n",
       "      <td>0.367347</td>\n",
       "      <td>0.857143</td>\n",
       "      <td>0.002160</td>\n",
       "    </tr>\n",
       "    <tr>\n",
       "      <th>594640</th>\n",
       "      <td>0.357542</td>\n",
       "      <td>0.285714</td>\n",
       "      <td>0.333333</td>\n",
       "      <td>0.612245</td>\n",
       "      <td>0.857143</td>\n",
       "      <td>0.004251</td>\n",
       "    </tr>\n",
       "    <tr>\n",
       "      <th>594641</th>\n",
       "      <td>0.262570</td>\n",
       "      <td>0.571429</td>\n",
       "      <td>0.666667</td>\n",
       "      <td>0.612245</td>\n",
       "      <td>0.857143</td>\n",
       "      <td>0.005669</td>\n",
       "    </tr>\n",
       "    <tr>\n",
       "      <th>594642</th>\n",
       "      <td>0.525140</td>\n",
       "      <td>0.428571</td>\n",
       "      <td>0.666667</td>\n",
       "      <td>0.918367</td>\n",
       "      <td>0.214286</td>\n",
       "      <td>0.004273</td>\n",
       "    </tr>\n",
       "  </tbody>\n",
       "</table>\n",
       "<p>594643 rows × 6 columns</p>\n",
       "</div>"
      ],
      "text/plain": [
       "            step       age    gender  merchant  category    amount\n",
       "0       0.949721  0.714286  0.333333  0.612245  0.857143  0.002796\n",
       "1       0.826816  0.285714  0.333333  0.612245  0.857143  0.000976\n",
       "2       0.100559  0.571429  0.666667  0.612245  0.857143  0.000053\n",
       "3       0.770950  0.285714  0.333333  0.224490  0.142857  0.003113\n",
       "4       0.893855  0.428571  0.666667  0.183673  0.000000  0.002750\n",
       "...          ...       ...       ...       ...       ...       ...\n",
       "594638  0.597765  0.428571  0.333333  0.612245  0.857143  0.003220\n",
       "594639  0.564246  0.285714  0.666667  0.367347  0.857143  0.002160\n",
       "594640  0.357542  0.285714  0.333333  0.612245  0.857143  0.004251\n",
       "594641  0.262570  0.571429  0.666667  0.612245  0.857143  0.005669\n",
       "594642  0.525140  0.428571  0.666667  0.918367  0.214286  0.004273\n",
       "\n",
       "[594643 rows x 6 columns]"
      ]
     },
     "execution_count": 30,
     "metadata": {},
     "output_type": "execute_result"
    }
   ],
   "source": [
    "minMaxScaler = MinMaxScaler().fit(X)\n",
    "X_processed = minMaxScaler.transform(X)\n",
    "\n",
    "df_processed = pd.DataFrame(X_processed, columns=X.columns)\n",
    "df_processed"
   ]
  },
  {
   "cell_type": "markdown",
   "id": "578b41fa-4b5c-464f-9e52-480d26863767",
   "metadata": {},
   "source": [
    "##### Showing the boxplot after min-max normalization"
   ]
  },
  {
   "cell_type": "code",
   "execution_count": 31,
   "id": "17468218-c88d-49b1-88bf-82d52ba2a008",
   "metadata": {},
   "outputs": [
    {
     "data": {
      "text/plain": [
       "<AxesSubplot:>"
      ]
     },
     "execution_count": 31,
     "metadata": {},
     "output_type": "execute_result"
    },
    {
     "data": {
      "image/png": "[encoded data removed]",
      "text/plain": [
       "<Figure size 1080x720 with 1 Axes>"
      ]
     },
     "metadata": {
      "needs_background": "light"
     },
     "output_type": "display_data"
    }
   ],
   "source": [
    "ax = plt.subplots(figsize=(15,10))\n",
    "sns.boxplot(data=df_processed)"
   ]
  },
  {
   "cell_type": "markdown",
   "id": "3dc5bb7b-0c1f-4298-86c1-4d331d0afad2",
   "metadata": {},
   "source": [
    "##### The predictor variables (X) and the variable to predict (y) are selected.\n"
   ]
  },
  {
   "cell_type": "code",
   "execution_count": 32,
   "id": "d1975f40-89f8-4435-83b9-b9ed0025c3b9",
   "metadata": {},
   "outputs": [
    {
     "name": "stdout",
     "output_type": "stream",
     "text": [
      "       step       age    gender  merchant  category    amount\n",
      "0  0.949721  0.714286  0.333333  0.612245  0.857143  0.002796\n",
      "1  0.826816  0.285714  0.333333  0.612245  0.857143  0.000976\n",
      "2  0.100559  0.571429  0.666667  0.612245  0.857143  0.000053\n",
      "3  0.770950  0.285714  0.333333  0.224490  0.142857  0.003113\n",
      "4  0.893855  0.428571  0.666667  0.183673  0.000000  0.002750 \n",
      "\n",
      "        fraud\n",
      "558842      0\n",
      "477295      0\n",
      "47151       0\n",
      "439875      0\n",
      "521435      0\n"
     ]
    }
   ],
   "source": [
    "X = df_processed[['step','age','gender','merchant','category','amount']] # the data is normalizated \n",
    "y = df2[['fraud']]\n",
    "\n",
    "print(X.head(),\"\\n\")\n",
    "print(y.head())"
   ]
  },
  {
   "cell_type": "markdown",
   "id": "ed4aa356-a903-4b9b-b9e3-0ff0c5cb1a6a",
   "metadata": {},
   "source": [
    "##### Synthetic Minority Oversampling Technique (SMOTE)"
   ]
  },
  {
   "cell_type": "code",
   "execution_count": 33,
   "id": "fab24912-1e91-49f1-9d62-6cc6800e50da",
   "metadata": {},
   "outputs": [
    {
     "data": {
      "text/plain": [
       "fraud    7200\n",
       "dtype: int64"
      ]
     },
     "execution_count": 33,
     "metadata": {},
     "output_type": "execute_result"
    }
   ],
   "source": [
    "y[y==1].count()"
   ]
  },
  {
   "cell_type": "markdown",
   "id": "e41f9fc1-02ee-4901-be71-faf090e777e0",
   "metadata": {},
   "source": [
    "We find that fraudulent transactions represent 1.2% of the total, and the imbalance of the dataset can be corroborated."
   ]
  },
  {
   "cell_type": "markdown",
   "id": "150f7b6b-d04f-4268-bb77-fa630206de52",
   "metadata": {},
   "source": [
    "##### Transform the Dataset"
   ]
  },
  {
   "cell_type": "code",
   "execution_count": 34,
   "id": "1d6fa175-0ba5-4e46-a449-401d36f0816a",
   "metadata": {},
   "outputs": [
    {
     "name": "stdout",
     "output_type": "stream",
     "text": [
      "fraud\n",
      "0        587443\n",
      "1        587443\n",
      "dtype: int64\n"
     ]
    }
   ],
   "source": [
    "sm = SMOTE(random_state=42)\n",
    "X_res, y_res = sm.fit_resample(X, y)\n",
    "y_res = pd.DataFrame(y_res)\n",
    "print(y_res.value_counts())"
   ]
  },
  {
   "cell_type": "markdown",
   "id": "5f52c843-8f2b-4190-ace0-ae526e5b3996",
   "metadata": {},
   "source": [
    "Once SMOTE is applied to balance the dataset, the results show that we have the exact number of class instances (1 and 0)\n",
    "\n",
    "SMOTE will create new data of the minority class using the neighboring instances, so the generated samples are not exact copies, but are similar to the instances we have."
   ]
  },
  {
   "cell_type": "markdown",
   "id": "26dacd21-7415-4530-a884-f71e211ac5c5",
   "metadata": {},
   "source": [
    "##### The Train Test Split is performed to divide the test training."
   ]
  },
  {
   "cell_type": "code",
   "execution_count": 36,
   "id": "65959b97-42bd-4d3c-9fda-c19ef198d46b",
   "metadata": {},
   "outputs": [],
   "source": [
    "X_train, X_test, y_train, y_test = train_test_split(\n",
    "    X_res,y_res,test_size=0.3,\n",
    "    random_state=42,\n",
    "    shuffle=True,\n",
    "    stratify=y_res)"
   ]
  },
  {
   "cell_type": "markdown",
   "id": "6f1ce2ba-bbc0-4a18-90e2-5e631a38c8dd",
   "metadata": {},
   "source": [
    "### Evaluations"
   ]
  },
  {
   "cell_type": "markdown",
   "id": "a6f680a7-9237-4dd9-a866-73d0de891f4c",
   "metadata": {
    "tags": []
   },
   "source": [
    "#### Gaussian Naive Bayes"
   ]
  },
  {
   "cell_type": "code",
   "execution_count": 79,
   "id": "3dd7aef9-5d57-410d-824e-ad99fff84672",
   "metadata": {
    "tags": []
   },
   "outputs": [
    {
     "name": "stdout",
     "output_type": "stream",
     "text": [
      "Classification Report for GaussianNB: \n",
      "               precision    recall  f1-score   support\n",
      "\n",
      "           0       0.91      0.91      0.91    176233\n",
      "           1       0.91      0.91      0.91    176233\n",
      "\n",
      "    accuracy                           0.91    352466\n",
      "   macro avg       0.91      0.91      0.91    352466\n",
      "weighted avg       0.91      0.91      0.91    352466\n",
      "\n",
      "The processing time of GaussianNB (in second):\n",
      "0.4464229999999816\n"
     ]
    }
   ],
   "source": [
    "t = time.process_time()\n",
    "\n",
    "elapsed_time = time.process_time() - t\n",
    "\n",
    "nb = GaussianNB()\n",
    "nb.fit(X_train,y_train.values.ravel())\n",
    "y_test_pred = nb.predict(X_test)\n",
    "\n",
    "print(\"Classification Report for GaussianNB: \\n\", classification_report(y_test, y_test_pred))\n",
    "\n",
    "print(\"The processing time of GaussianNB (in second):\")\n",
    "elapsed_time = time.process_time() - t\n",
    "print(elapsed_time)"
   ]
  },
  {
   "cell_type": "markdown",
   "id": "10434264-a2f2-4905-9caa-61245dba4401",
   "metadata": {},
   "source": [
    "##### Showing confusion matrix heatmap"
   ]
  },
  {
   "cell_type": "code",
   "execution_count": 80,
   "id": "afb323d9-16c6-4fa0-9577-fc1b8aec6746",
   "metadata": {
    "tags": []
   },
   "outputs": [
    {
     "data": {
      "image/png": "[encoded data removed]",
      "text/plain": [
       "<Figure size 432x288 with 2 Axes>"
      ]
     },
     "metadata": {
      "needs_background": "light"
     },
     "output_type": "display_data"
    }
   ],
   "source": [
    "y_pred = nb.predict(X_test)\n",
    "cm_nb = confusion_matrix(y_test,y_pred)\n",
    "sns.heatmap(cm_nb,cmap='icefire',annot=True,linewidth=1,fmt='d')\n",
    "plt.show()"
   ]
  },
  {
   "cell_type": "markdown",
   "id": "148ce71c-4b78-486f-aed8-0a4293896842",
   "metadata": {},
   "source": [
    "#### Logistic Regression"
   ]
  },
  {
   "cell_type": "code",
   "execution_count": 72,
   "id": "b8e9d96c-d2b1-4612-86bc-f766303b4707",
   "metadata": {},
   "outputs": [
    {
     "name": "stdout",
     "output_type": "stream",
     "text": [
      "Classification Report for Logistic Regression: \n",
      "               precision    recall  f1-score   support\n",
      "\n",
      "           0       0.90      0.96      0.93    176233\n",
      "           1       0.96      0.90      0.93    176233\n",
      "\n",
      "    accuracy                           0.93    352466\n",
      "   macro avg       0.93      0.93      0.93    352466\n",
      "weighted avg       0.93      0.93      0.93    352466\n",
      "\n",
      "The processing time of Logistic Regression (in second):\n",
      "8.987823000000049\n"
     ]
    }
   ],
   "source": [
    "t = time.process_time()\n",
    "\n",
    "elapsed_time = time.process_time() - t\n",
    "\n",
    "lr = LogisticRegression()\n",
    "\n",
    "lr.fit(X_train,y_train.values.ravel())\n",
    "y_test_pred = lr.predict(X_test)\n",
    "\n",
    "\n",
    "print(\"Classification Report for Logistic Regression: \\n\", \n",
    "      classification_report(y_test, y_test_pred))\n",
    "\n",
    "print(\"The processing time of Logistic Regression (in second):\")\n",
    "elapsed_time = time.process_time() - t\n",
    "print(elapsed_time)"
   ]
  },
  {
   "cell_type": "markdown",
   "id": "a6411032-83db-4309-b268-2be5015cba5f",
   "metadata": {},
   "source": [
    "##### Showing confusion matrix heatmap"
   ]
  },
  {
   "cell_type": "code",
   "execution_count": 77,
   "id": "5d74ea83-da0f-4c36-88a7-3dbeb36f9ef4",
   "metadata": {
    "tags": []
   },
   "outputs": [
    {
     "data": {
      "image/png": "[encoded data removed]",
      "text/plain": [
       "<Figure size 432x288 with 2 Axes>"
      ]
     },
     "metadata": {
      "needs_background": "light"
     },
     "output_type": "display_data"
    }
   ],
   "source": [
    "y_pred = lr.predict(X_test)\n",
    "cm_lr = confusion_matrix(y_test,y_pred)\n",
    "sns.heatmap(cm_lr,cmap='icefire',annot=True,linewidth=1,fmt='d')\n",
    "plt.show()"
   ]
  },
  {
   "cell_type": "markdown",
   "id": "a03daa3c-75be-4ab8-9b43-2d45e630bd9a",
   "metadata": {},
   "source": [
    "#### Support Vector Machine"
   ]
  },
  {
   "cell_type": "code",
   "execution_count": 81,
   "id": "c0060b7a-1cd9-4d75-afcb-c573dd6abc0a",
   "metadata": {},
   "outputs": [
    {
     "name": "stderr",
     "output_type": "stream",
     "text": [
      "/Users/ysl/opt/anaconda3/lib/python3.8/site-packages/sklearn/utils/validation.py:63: DataConversionWarning: A column-vector y was passed when a 1d array was expected. Please change the shape of y to (n_samples, ), for example using ravel().\n",
      "  return f(*args, **kwargs)\n"
     ]
    },
    {
     "name": "stdout",
     "output_type": "stream",
     "text": [
      "Classification Report for SVM: \n",
      "               precision    recall  f1-score   support\n",
      "\n",
      "           0       0.91      0.97      0.94    176233\n",
      "           1       0.96      0.91      0.93    176233\n",
      "\n",
      "    accuracy                           0.94    352466\n",
      "   macro avg       0.94      0.94      0.94    352466\n",
      "weighted avg       0.94      0.94      0.94    352466\n",
      "\n",
      "The processing time of Support Vector Machine (in second):\n",
      "39809.514157\n"
     ]
    }
   ],
   "source": [
    "t = time.process_time()\n",
    "\n",
    "elapsed_time = time.process_time() - t\n",
    "\n",
    "svm = svm.SVC(kernel='linear', probability=True)\n",
    "svm.fit(X_train,y_train)\n",
    "y_test_pred = svm.predict(X_test)\n",
    "\n",
    "print(\"Classification Report for SVM: \\n\", classification_report(y_test, y_test_pred))\n",
    "\n",
    "print(\"The processing time of Support Vector Machine (in second):\")\n",
    "elapsed_time = time.process_time() - t\n",
    "print(elapsed_time)"
   ]
  },
  {
   "cell_type": "markdown",
   "id": "f56b605b-8405-422e-8777-36eb9fafd3b7",
   "metadata": {},
   "source": [
    "##### Showing confusion matrix heatmap"
   ]
  },
  {
   "cell_type": "code",
   "execution_count": 83,
   "id": "d125c162-7e16-4b4a-892c-31c335c15f9d",
   "metadata": {
    "tags": []
   },
   "outputs": [
    {
     "data": {
      "image/png": "[encoded data removed]",
      "text/plain": [
       "<Figure size 432x288 with 2 Axes>"
      ]
     },
     "metadata": {
      "needs_background": "light"
     },
     "output_type": "display_data"
    }
   ],
   "source": [
    "y_pred = svm.predict(X_test)\n",
    "cm_svm = confusion_matrix(y_test,y_pred)\n",
    "sns.heatmap(cm_svm,cmap='icefire',annot=True,linewidth=1,fmt='d')\n",
    "plt.show()"
   ]
  },
  {
   "cell_type": "markdown",
   "id": "2a3b5450-3a5f-4cf2-b1c3-a19fcbac25b2",
   "metadata": {},
   "source": [
    "#### Random Forest"
   ]
  },
  {
   "cell_type": "code",
   "execution_count": 42,
   "id": "d4ff60da-24be-481b-9eb2-f7951b27efbb",
   "metadata": {},
   "outputs": [
    {
     "name": "stdout",
     "output_type": "stream",
     "text": [
      "Classification Report for Random Forest Classifier: \n",
      "               precision    recall  f1-score   support\n",
      "\n",
      "           0       1.00      0.99      0.99    176233\n",
      "           1       0.99      1.00      0.99    176233\n",
      "\n",
      "    accuracy                           0.99    352466\n",
      "   macro avg       0.99      0.99      0.99    352466\n",
      "weighted avg       0.99      0.99      0.99    352466\n",
      "\n",
      "The processing time of Random Forest (in second):\n",
      "64.38616200000001\n"
     ]
    }
   ],
   "source": [
    "t = time.process_time()\n",
    "\n",
    "elapsed_time = time.process_time() - t\n",
    "\n",
    "rf = RandomForestClassifier()\n",
    "\n",
    "rf.fit(X_train,y_train.values.ravel())\n",
    "y_test_pred = rf.predict(X_test)\n",
    "\n",
    "print(\"Classification Report for Random Forest Classifier: \\n\", \n",
    "      classification_report(y_test, y_test_pred))\n",
    "\n",
    "print(\"The processing time of Random Forest (in second):\")\n",
    "elapsed_time = time.process_time() - t\n",
    "print(elapsed_time)"
   ]
  },
  {
   "cell_type": "markdown",
   "id": "2690b8ea-307b-4b59-bb00-bc164930889e",
   "metadata": {},
   "source": [
    "##### Showing confusion matrix heatmap"
   ]
  },
  {
   "cell_type": "code",
   "execution_count": 78,
   "id": "74dfc46e-6884-423a-8960-80a2be293c04",
   "metadata": {
    "tags": []
   },
   "outputs": [
    {
     "data": {
      "image/png": "[encoded data removed]",
      "text/plain": [
       "<Figure size 432x288 with 2 Axes>"
      ]
     },
     "metadata": {
      "needs_background": "light"
     },
     "output_type": "display_data"
    }
   ],
   "source": [
    "y_pred = rf.predict(X_test)\n",
    "cm_rf = confusion_matrix(y_test,y_pred)\n",
    "sns.heatmap(cm_rf,cmap='icefire',annot=True,linewidth=1,fmt='d')\n",
    "plt.show()"
   ]
  },
  {
   "cell_type": "markdown",
   "id": "a18a5455-957b-47cf-9313-4636afd6e90e",
   "metadata": {},
   "source": [
    "#### K-nearest Neighbors Classifier"
   ]
  },
  {
   "cell_type": "code",
   "execution_count": 75,
   "id": "6da9fe0a-0db1-4d5a-baae-6acd790dc5ef",
   "metadata": {},
   "outputs": [
    {
     "name": "stdout",
     "output_type": "stream",
     "text": [
      "Classification Report for K-nearest Neighbors Classifier: \n",
      "               precision    recall  f1-score   support\n",
      "\n",
      "           0       1.00      0.98      0.99    176233\n",
      "           1       0.98      1.00      0.99    176233\n",
      "\n",
      "    accuracy                           0.99    352466\n",
      "   macro avg       0.99      0.99      0.99    352466\n",
      "weighted avg       0.99      0.99      0.99    352466\n",
      "\n",
      "The processing time of K-nearest Neighbors Classifier (in second):\n",
      "98.78400299999998\n"
     ]
    }
   ],
   "source": [
    "t = time.process_time()\n",
    "\n",
    "elapsed_time = time.process_time() - t\n",
    "\n",
    "knn = KNeighborsClassifier()\n",
    "\n",
    "knn.fit(X_train,y_train.values.ravel())\n",
    "y_test_pred = knn.predict(X_test)\n",
    "\n",
    "print(\"Classification Report for K-nearest Neighbors Classifier: \\n\", classification_report(y_test, y_test_pred))\n",
    "\n",
    "print(\"The processing time of K-nearest Neighbors Classifier (in second):\")\n",
    "elapsed_time = time.process_time() - t\n",
    "print(elapsed_time)"
   ]
  },
  {
   "cell_type": "markdown",
   "id": "bcdde39f-25dd-4a32-adcf-ce98be92c17f",
   "metadata": {},
   "source": [
    "##### Showing confusion matrix heatmap"
   ]
  },
  {
   "cell_type": "code",
   "execution_count": 76,
   "id": "f1175bc3-f0ec-48eb-b1f9-96f0b2426d55",
   "metadata": {
    "tags": []
   },
   "outputs": [
    {
     "data": {
      "image/png": "[encoded data removed]",
      "text/plain": [
       "<Figure size 432x288 with 2 Axes>"
      ]
     },
     "metadata": {
      "needs_background": "light"
     },
     "output_type": "display_data"
    }
   ],
   "source": [
    "y_pred = knn.predict(X_test)\n",
    "cm_knn = confusion_matrix(y_test,y_pred)\n",
    "sns.heatmap(cm_knn,cmap='icefire',annot=True,linewidth=1,fmt='d')\n",
    "plt.show()"
   ]
  },
  {
   "cell_type": "markdown",
   "id": "71f93e02-f5df-49cf-ae2e-777fc3046d58",
   "metadata": {},
   "source": [
    "The result comparsion\n",
    "\n",
    "1. Random Forest, Accuracy Rate: 99%, Computational Cost: 1m4s\n",
    "2. K-Nearest Neighbor, Accuracy Rate: 99%, Computational Cost: 1m38s\n",
    "3. Support Vector Machine Accuracy Rate: 94%, Computational Cost: 11h3m29s\n",
    "4. Logistic Regression, Accuracy Rate: 93%, Computational Cost: 8s\n",
    "5. Gaussian Naive Bayes, Accuracy Rate: 91%, Computational Cost: 0.4s"
   ]
  },
  {
   "cell_type": "markdown",
   "id": "28e2846f",
   "metadata": {},
   "source": []
  }
 ],
 "metadata": {
  "kernelspec": {
   "display_name": "Python 3",
   "language": "python",
   "name": "python3"
  },
  "language_info": {
   "codemirror_mode": {
    "name": "ipython",
    "version": 3
   },
   "file_extension": ".py",
   "mimetype": "text/x-python",
   "name": "python",
   "nbconvert_exporter": "python",
   "pygments_lexer": "ipython3",
   "version": "3.8.8"
  }
 },
 "nbformat": 4,
 "nbformat_minor": 5
}
